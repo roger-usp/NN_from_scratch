{
 "cells": [
  {
   "cell_type": "code",
   "execution_count": 1,
   "id": "96819f7f-4c32-491b-b300-fadd00f87285",
   "metadata": {},
   "outputs": [],
   "source": [
    "import numpy as np\n",
    "import pandas as pd\n",
    "from layer import *\n",
    "from network import *"
   ]
  },
  {
   "cell_type": "code",
   "execution_count": 2,
   "id": "ff6c2377-8249-4cc1-a109-21a704fb8b6f",
   "metadata": {},
   "outputs": [],
   "source": [
    "# dataset and preprocessing imports, no ML models imported\n",
    "from sklearn.datasets import load_iris\n",
    "from sklearn.preprocessing import MinMaxScaler\n",
    "from sklearn.model_selection import train_test_split\n",
    "from sklearn.metrics import accuracy_score"
   ]
  },
  {
   "cell_type": "markdown",
   "id": "a96db2d2-be28-42f9-8330-f9e9329f8d2c",
   "metadata": {},
   "source": [
    "# Load and prepare data"
   ]
  },
  {
   "cell_type": "code",
   "execution_count": 3,
   "id": "c38e7594-73b1-4bd3-9c24-ca46e22c67dc",
   "metadata": {},
   "outputs": [],
   "source": [
    "def load_dataset():\n",
    "    data = load_iris()\n",
    "    df = pd.DataFrame(data[\"data\"], columns=data[\"feature_names\"])\n",
    "    df[\"target\"] = [data[\"target_names\"][target_idx] for target_idx in data[\"target\"]]\n",
    "    return df"
   ]
  },
  {
   "cell_type": "code",
   "execution_count": 4,
   "id": "87deaf04-f7fe-4654-aa37-620e8d1184b1",
   "metadata": {},
   "outputs": [
    {
     "data": {
      "text/html": [
       "<div>\n",
       "<style scoped>\n",
       "    .dataframe tbody tr th:only-of-type {\n",
       "        vertical-align: middle;\n",
       "    }\n",
       "\n",
       "    .dataframe tbody tr th {\n",
       "        vertical-align: top;\n",
       "    }\n",
       "\n",
       "    .dataframe thead th {\n",
       "        text-align: right;\n",
       "    }\n",
       "</style>\n",
       "<table border=\"1\" class=\"dataframe\">\n",
       "  <thead>\n",
       "    <tr style=\"text-align: right;\">\n",
       "      <th></th>\n",
       "      <th>sepal length (cm)</th>\n",
       "      <th>sepal width (cm)</th>\n",
       "      <th>petal length (cm)</th>\n",
       "      <th>petal width (cm)</th>\n",
       "      <th>target</th>\n",
       "    </tr>\n",
       "  </thead>\n",
       "  <tbody>\n",
       "    <tr>\n",
       "      <th>0</th>\n",
       "      <td>5.1</td>\n",
       "      <td>3.5</td>\n",
       "      <td>1.4</td>\n",
       "      <td>0.2</td>\n",
       "      <td>setosa</td>\n",
       "    </tr>\n",
       "    <tr>\n",
       "      <th>1</th>\n",
       "      <td>4.9</td>\n",
       "      <td>3.0</td>\n",
       "      <td>1.4</td>\n",
       "      <td>0.2</td>\n",
       "      <td>setosa</td>\n",
       "    </tr>\n",
       "    <tr>\n",
       "      <th>2</th>\n",
       "      <td>4.7</td>\n",
       "      <td>3.2</td>\n",
       "      <td>1.3</td>\n",
       "      <td>0.2</td>\n",
       "      <td>setosa</td>\n",
       "    </tr>\n",
       "    <tr>\n",
       "      <th>3</th>\n",
       "      <td>4.6</td>\n",
       "      <td>3.1</td>\n",
       "      <td>1.5</td>\n",
       "      <td>0.2</td>\n",
       "      <td>setosa</td>\n",
       "    </tr>\n",
       "    <tr>\n",
       "      <th>4</th>\n",
       "      <td>5.0</td>\n",
       "      <td>3.6</td>\n",
       "      <td>1.4</td>\n",
       "      <td>0.2</td>\n",
       "      <td>setosa</td>\n",
       "    </tr>\n",
       "    <tr>\n",
       "      <th>...</th>\n",
       "      <td>...</td>\n",
       "      <td>...</td>\n",
       "      <td>...</td>\n",
       "      <td>...</td>\n",
       "      <td>...</td>\n",
       "    </tr>\n",
       "    <tr>\n",
       "      <th>145</th>\n",
       "      <td>6.7</td>\n",
       "      <td>3.0</td>\n",
       "      <td>5.2</td>\n",
       "      <td>2.3</td>\n",
       "      <td>virginica</td>\n",
       "    </tr>\n",
       "    <tr>\n",
       "      <th>146</th>\n",
       "      <td>6.3</td>\n",
       "      <td>2.5</td>\n",
       "      <td>5.0</td>\n",
       "      <td>1.9</td>\n",
       "      <td>virginica</td>\n",
       "    </tr>\n",
       "    <tr>\n",
       "      <th>147</th>\n",
       "      <td>6.5</td>\n",
       "      <td>3.0</td>\n",
       "      <td>5.2</td>\n",
       "      <td>2.0</td>\n",
       "      <td>virginica</td>\n",
       "    </tr>\n",
       "    <tr>\n",
       "      <th>148</th>\n",
       "      <td>6.2</td>\n",
       "      <td>3.4</td>\n",
       "      <td>5.4</td>\n",
       "      <td>2.3</td>\n",
       "      <td>virginica</td>\n",
       "    </tr>\n",
       "    <tr>\n",
       "      <th>149</th>\n",
       "      <td>5.9</td>\n",
       "      <td>3.0</td>\n",
       "      <td>5.1</td>\n",
       "      <td>1.8</td>\n",
       "      <td>virginica</td>\n",
       "    </tr>\n",
       "  </tbody>\n",
       "</table>\n",
       "<p>150 rows × 5 columns</p>\n",
       "</div>"
      ],
      "text/plain": [
       "     sepal length (cm)  sepal width (cm)  petal length (cm)  petal width (cm)  \\\n",
       "0                  5.1               3.5                1.4               0.2   \n",
       "1                  4.9               3.0                1.4               0.2   \n",
       "2                  4.7               3.2                1.3               0.2   \n",
       "3                  4.6               3.1                1.5               0.2   \n",
       "4                  5.0               3.6                1.4               0.2   \n",
       "..                 ...               ...                ...               ...   \n",
       "145                6.7               3.0                5.2               2.3   \n",
       "146                6.3               2.5                5.0               1.9   \n",
       "147                6.5               3.0                5.2               2.0   \n",
       "148                6.2               3.4                5.4               2.3   \n",
       "149                5.9               3.0                5.1               1.8   \n",
       "\n",
       "        target  \n",
       "0       setosa  \n",
       "1       setosa  \n",
       "2       setosa  \n",
       "3       setosa  \n",
       "4       setosa  \n",
       "..         ...  \n",
       "145  virginica  \n",
       "146  virginica  \n",
       "147  virginica  \n",
       "148  virginica  \n",
       "149  virginica  \n",
       "\n",
       "[150 rows x 5 columns]"
      ]
     },
     "execution_count": 4,
     "metadata": {},
     "output_type": "execute_result"
    }
   ],
   "source": [
    "df = load_dataset()\n",
    "df"
   ]
  },
  {
   "cell_type": "code",
   "execution_count": 5,
   "id": "d00224c2-ec02-4889-aaf0-e384177ec11f",
   "metadata": {},
   "outputs": [
    {
     "data": {
      "text/html": [
       "<div>\n",
       "<style scoped>\n",
       "    .dataframe tbody tr th:only-of-type {\n",
       "        vertical-align: middle;\n",
       "    }\n",
       "\n",
       "    .dataframe tbody tr th {\n",
       "        vertical-align: top;\n",
       "    }\n",
       "\n",
       "    .dataframe thead th {\n",
       "        text-align: right;\n",
       "    }\n",
       "</style>\n",
       "<table border=\"1\" class=\"dataframe\">\n",
       "  <thead>\n",
       "    <tr style=\"text-align: right;\">\n",
       "      <th></th>\n",
       "      <th>s_length</th>\n",
       "      <th>s_width</th>\n",
       "      <th>p_length</th>\n",
       "      <th>p_width</th>\n",
       "      <th>target_setosa</th>\n",
       "      <th>target_versicolor</th>\n",
       "      <th>target_virginica</th>\n",
       "    </tr>\n",
       "  </thead>\n",
       "  <tbody>\n",
       "    <tr>\n",
       "      <th>0</th>\n",
       "      <td>5.1</td>\n",
       "      <td>3.5</td>\n",
       "      <td>1.4</td>\n",
       "      <td>0.2</td>\n",
       "      <td>1</td>\n",
       "      <td>0</td>\n",
       "      <td>0</td>\n",
       "    </tr>\n",
       "    <tr>\n",
       "      <th>1</th>\n",
       "      <td>4.9</td>\n",
       "      <td>3.0</td>\n",
       "      <td>1.4</td>\n",
       "      <td>0.2</td>\n",
       "      <td>1</td>\n",
       "      <td>0</td>\n",
       "      <td>0</td>\n",
       "    </tr>\n",
       "    <tr>\n",
       "      <th>2</th>\n",
       "      <td>4.7</td>\n",
       "      <td>3.2</td>\n",
       "      <td>1.3</td>\n",
       "      <td>0.2</td>\n",
       "      <td>1</td>\n",
       "      <td>0</td>\n",
       "      <td>0</td>\n",
       "    </tr>\n",
       "    <tr>\n",
       "      <th>3</th>\n",
       "      <td>4.6</td>\n",
       "      <td>3.1</td>\n",
       "      <td>1.5</td>\n",
       "      <td>0.2</td>\n",
       "      <td>1</td>\n",
       "      <td>0</td>\n",
       "      <td>0</td>\n",
       "    </tr>\n",
       "    <tr>\n",
       "      <th>4</th>\n",
       "      <td>5.0</td>\n",
       "      <td>3.6</td>\n",
       "      <td>1.4</td>\n",
       "      <td>0.2</td>\n",
       "      <td>1</td>\n",
       "      <td>0</td>\n",
       "      <td>0</td>\n",
       "    </tr>\n",
       "  </tbody>\n",
       "</table>\n",
       "</div>"
      ],
      "text/plain": [
       "   s_length  s_width  p_length  p_width  target_setosa  target_versicolor  \\\n",
       "0       5.1      3.5       1.4      0.2              1                  0   \n",
       "1       4.9      3.0       1.4      0.2              1                  0   \n",
       "2       4.7      3.2       1.3      0.2              1                  0   \n",
       "3       4.6      3.1       1.5      0.2              1                  0   \n",
       "4       5.0      3.6       1.4      0.2              1                  0   \n",
       "\n",
       "   target_virginica  \n",
       "0                 0  \n",
       "1                 0  \n",
       "2                 0  \n",
       "3                 0  \n",
       "4                 0  "
      ]
     },
     "execution_count": 5,
     "metadata": {},
     "output_type": "execute_result"
    }
   ],
   "source": [
    "def prepare_data(df):\n",
    "    df = df.copy()\n",
    "    df = df.rename(columns={\"sepal length (cm)\": \"s_length\",\n",
    "                            \"sepal width (cm)\": \"s_width\",\n",
    "                            \"petal length (cm)\": \"p_length\",\n",
    "                            \"petal width (cm)\": \"p_width\"\n",
    "    })\n",
    "    df = pd.get_dummies(df, columns=[\"target\"], dtype=int)\n",
    "    return df\n",
    "    \n",
    "df = prepare_data(df)\n",
    "df.head()"
   ]
  },
  {
   "cell_type": "markdown",
   "id": "636d866a-3eff-4c3c-85f3-ae5769f92bfd",
   "metadata": {},
   "source": [
    "#### Check null values and data types"
   ]
  },
  {
   "cell_type": "code",
   "execution_count": 6,
   "id": "76a43dc5-472f-4966-b3e3-2bdad92f7aa4",
   "metadata": {},
   "outputs": [
    {
     "name": "stdout",
     "output_type": "stream",
     "text": [
      "<class 'pandas.core.frame.DataFrame'>\n",
      "RangeIndex: 150 entries, 0 to 149\n",
      "Data columns (total 7 columns):\n",
      " #   Column             Non-Null Count  Dtype  \n",
      "---  ------             --------------  -----  \n",
      " 0   s_length           150 non-null    float64\n",
      " 1   s_width            150 non-null    float64\n",
      " 2   p_length           150 non-null    float64\n",
      " 3   p_width            150 non-null    float64\n",
      " 4   target_setosa      150 non-null    int64  \n",
      " 5   target_versicolor  150 non-null    int64  \n",
      " 6   target_virginica   150 non-null    int64  \n",
      "dtypes: float64(4), int64(3)\n",
      "memory usage: 8.3 KB\n"
     ]
    }
   ],
   "source": [
    "df.info()"
   ]
  },
  {
   "cell_type": "markdown",
   "id": "ab07224c-2f06-436f-acf9-4fef4ab06eed",
   "metadata": {},
   "source": [
    "# Train-test split and scaling X between 0 and 1"
   ]
  },
  {
   "cell_type": "code",
   "execution_count": 7,
   "id": "1926c8fb-e4f1-4f86-9242-1ac2826d0bee",
   "metadata": {},
   "outputs": [],
   "source": [
    "def Xy_split(df):\n",
    "    df = df.copy()\n",
    "    y_cols = [\"target_setosa\", \"target_versicolor\", \"target_virginica\"]\n",
    "    y = df[y_cols]\n",
    "    X = df.drop(y_cols, axis=1)\n",
    "    return X,y"
   ]
  },
  {
   "cell_type": "code",
   "execution_count": 8,
   "id": "e9746dde-398d-4e8a-b735-21830be615be",
   "metadata": {},
   "outputs": [],
   "source": [
    "X,y = Xy_split(df)"
   ]
  },
  {
   "cell_type": "code",
   "execution_count": 9,
   "id": "965be464-3695-478f-8013-483a99cc3e44",
   "metadata": {},
   "outputs": [],
   "source": [
    "X_train, X_test, y_train, y_test = train_test_split(X, y, test_size=0.3, random_state=1)\n",
    "\n",
    "# assure that data is converted to np.array\n",
    "X_train, X_test, y_train, y_test = [np.array(a) for a in [X_train, X_test, y_train, y_test]]"
   ]
  },
  {
   "cell_type": "code",
   "execution_count": 10,
   "id": "02c1b38a-90d9-4701-a211-59327f8217d8",
   "metadata": {},
   "outputs": [],
   "source": [
    "def scale_data(X_train, X_test):\n",
    "    X_train, X_test = X_train.copy(), X_test.copy()\n",
    "    scaler = MinMaxScaler()\n",
    "    # fit the scaler only using X_train\n",
    "    X_train = scaler.fit_transform(X_train)\n",
    "    X_test = scaler.transform(X_test)\n",
    "    return X_train, X_test"
   ]
  },
  {
   "cell_type": "code",
   "execution_count": 11,
   "id": "a0366710-c4dd-47c5-a89a-3459b72f7c0b",
   "metadata": {},
   "outputs": [],
   "source": [
    "X_train, X_test = scale_data(X_train, X_test)"
   ]
  },
  {
   "cell_type": "code",
   "execution_count": 12,
   "id": "368ba1b0-e884-4251-bf90-4f7b7a2ff358",
   "metadata": {},
   "outputs": [],
   "source": [
    "def transpose_data(X_train, X_test, y_train):\n",
    "    # necessary for this specific neural net\n",
    "    # y_test doesn't need to be transposed\n",
    "    X_train, X_test, y_train = X_train.copy(), X_test.copy(), y_train.copy()\n",
    "    X_train, X_test, y_train = X_train.T, X_test.T, y_train.T\n",
    "    return X_train, X_test, y_train"
   ]
  },
  {
   "cell_type": "code",
   "execution_count": 13,
   "id": "cf7dfe2a-d147-458b-8257-c5b8e8711513",
   "metadata": {},
   "outputs": [],
   "source": [
    "X_train, X_test, y_train = transpose_data(X_train, X_test, y_train)"
   ]
  },
  {
   "cell_type": "code",
   "execution_count": 14,
   "id": "067b5289-2117-4064-b75a-94ced6642ca9",
   "metadata": {},
   "outputs": [],
   "source": [
    "def get_Ninputs_Noutputs(X_train, y_train):\n",
    "    # each column is a sample (already transposed)\n",
    "    n_inputs = X_train.shape[0]\n",
    "    n_outputs = y_train.shape[0]\n",
    "    return n_inputs, n_outputs"
   ]
  },
  {
   "cell_type": "code",
   "execution_count": 15,
   "id": "c4a437d0-af13-496e-b1f3-08035063f523",
   "metadata": {},
   "outputs": [],
   "source": [
    "n_inputs, n_outputs = get_Ninputs_Noutputs(X_train, y_train)"
   ]
  },
  {
   "cell_type": "markdown",
   "id": "a6cca097-21ca-4595-aaf7-2b1448d885c5",
   "metadata": {},
   "source": [
    "# Train Model"
   ]
  },
  {
   "cell_type": "code",
   "execution_count": 16,
   "id": "ffae330c-e16f-4e1b-a27c-06181f265f45",
   "metadata": {},
   "outputs": [],
   "source": [
    "def relu(x):\n",
    "    return np.maximum(0, x)\n",
    "\n",
    "def relu_derivative(x):\n",
    "    return np.where(x > 0, 1, 0)"
   ]
  },
  {
   "cell_type": "code",
   "execution_count": 17,
   "id": "babb1bb5-311e-4c92-a410-95b5c5474e37",
   "metadata": {},
   "outputs": [],
   "source": [
    "def sigmoid(x):\n",
    "    return 1 / (1 + np.exp(-x))\n",
    "\n",
    "def sigmoid_derivative(x):\n",
    "    sx = sigmoid(x)\n",
    "    return sx * (1 - sx)"
   ]
  },
  {
   "cell_type": "code",
   "execution_count": 18,
   "id": "0e0bf751-c510-4ffe-869e-784cd8b8b769",
   "metadata": {},
   "outputs": [],
   "source": [
    "hidden1 = HiddenLayer([n_inputs, 20], relu, relu_derivative)\n",
    "out = LastLayer([20,n_outputs], sigmoid, sigmoid_derivative)\n",
    "\n",
    "net = Network([hidden1, out])"
   ]
  },
  {
   "cell_type": "code",
   "execution_count": 19,
   "id": "ff54ffa7-0675-48a0-b03d-93152629980f",
   "metadata": {},
   "outputs": [
    {
     "name": "stdout",
     "output_type": "stream",
     "text": [
      "Epoch: 99\tError:0.137774056494906045"
     ]
    }
   ],
   "source": [
    "net.fit(X_train, y_train, learning_rate=1, epochs=100, batch_size=10)"
   ]
  },
  {
   "cell_type": "code",
   "execution_count": 20,
   "id": "2c1580d7-e7db-4dcf-864a-f048b48f796c",
   "metadata": {},
   "outputs": [],
   "source": [
    "y_pred = net.forward_propagate(X_test)[-1]\n",
    "y_pred = y_pred.T"
   ]
  },
  {
   "cell_type": "code",
   "execution_count": 21,
   "id": "1c1760df-6110-4d96-8b50-19c812a73739",
   "metadata": {},
   "outputs": [],
   "source": [
    "def get_category(y_sample):\n",
    "    cont_y = list(y_sample)\n",
    "    max_value = max(y_sample)\n",
    "    max_idx = cont_y.index(max_value)\n",
    "    return max_idx"
   ]
  },
  {
   "cell_type": "code",
   "execution_count": 22,
   "id": "bfb81670-b65a-4152-8dd4-accfd0e821d2",
   "metadata": {},
   "outputs": [],
   "source": [
    "y_pred = [get_category(y_sample) for y_sample in y_pred]\n",
    "y_test = [get_category(y_sample) for y_sample in y_test]"
   ]
  },
  {
   "cell_type": "markdown",
   "id": "1c0612da-5e62-4602-bd25-9eff41ec7cbd",
   "metadata": {},
   "source": [
    "# Results"
   ]
  },
  {
   "cell_type": "code",
   "execution_count": 23,
   "id": "ffcea68b-d495-4aae-bc4a-f4a336e31057",
   "metadata": {},
   "outputs": [
    {
     "name": "stdout",
     "output_type": "stream",
     "text": [
      "Real:      [0, 1, 1, 0, 2, 1, 2, 0, 0, 2, 1, 0, 2, 1, 1, 0, 1, 1, 0, 0, 1, 1, 1, 0, 2, 1, 0, 0, 1, 2, 1, 2, 1, 2, 2, 0, 1, 0, 1, 2, 2, 0, 2, 2, 1]\n",
      "Predicted: [0, 1, 1, 0, 2, 1, 2, 0, 0, 2, 1, 0, 2, 1, 1, 0, 1, 1, 0, 0, 1, 1, 1, 0, 2, 1, 0, 0, 1, 2, 1, 2, 1, 2, 2, 0, 1, 0, 1, 2, 2, 0, 2, 2, 1]\n",
      "Accuracy = 100.0 %\n"
     ]
    }
   ],
   "source": [
    "print(\"Real:     \",y_test)\n",
    "print(\"Predicted:\",y_pred)\n",
    "print(\"Accuracy =\",round(accuracy_score(y_test, y_pred)*100, 2), \"%\")"
   ]
  },
  {
   "cell_type": "code",
   "execution_count": null,
   "id": "9c90bb36-16c1-473c-bf5e-e646927144e6",
   "metadata": {},
   "outputs": [],
   "source": []
  }
 ],
 "metadata": {
  "kernelspec": {
   "display_name": "Python 3 (ipykernel)",
   "language": "python",
   "name": "python3"
  },
  "language_info": {
   "codemirror_mode": {
    "name": "ipython",
    "version": 3
   },
   "file_extension": ".py",
   "mimetype": "text/x-python",
   "name": "python",
   "nbconvert_exporter": "python",
   "pygments_lexer": "ipython3",
   "version": "3.12.8"
  }
 },
 "nbformat": 4,
 "nbformat_minor": 5
}
